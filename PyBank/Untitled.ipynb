{
 "cells": [
  {
   "cell_type": "code",
   "execution_count": 10,
   "id": "76386d74",
   "metadata": {},
   "outputs": [
    {
     "name": "stdout",
     "output_type": "stream",
     "text": [
      "Total Months: 86\n",
      "$22,564,198.00\n",
      "$-8,311.11\n",
      "$1,862,002.00\n",
      "$-1,825,558.00\n"
     ]
    }
   ],
   "source": [
    "import os\n",
    "import csv\n",
    "from statistics import mean\n",
    "# Path to collect data from the Resources folder\n",
    "budget_data = os.path.join('.','Resources', 'budget_data.csv')\n",
    "# Read in the CSV file\n",
    "with open(budget_data, 'r') as csvfile:\n",
    "    # Split the data on commas\n",
    "    csvreader = csv.reader(csvfile, delimiter=',')\n",
    "    header = next(csvreader)\n",
    "    first_row=next(csvreader)\n",
    "    prev_net=int(first_row[1])\n",
    "    count = 1\n",
    "    total = int(first_row[1])  \n",
    "    change_list=[]\n",
    "    # Loop through the data\n",
    "    for row in csvreader:\n",
    "        count = count + 1\n",
    "        total = total + int(row[1])        \n",
    "        change= int(row[1])- prev_net\n",
    "        prev_net=int(row[1])\n",
    "        change_list.append(change)\n",
    "    pmax = max(change_list)\n",
    "    pmin = min(change_list)\n",
    "    avg = mean(change_list)\n",
    "    print(f\"Total Months: {count}\")\n",
    "    print('${:,.2f}'.format(total))\n",
    "    print('${:,.2f}'.format(avg))\n",
    "    print('${:,.2f}'.format(pmax))\n",
    "    print('${:,.2f}'.format(pmin))\n",
    "    \n",
    "\n",
    "    "
   ]
  },
  {
   "cell_type": "code",
   "execution_count": null,
   "id": "3027ad43",
   "metadata": {},
   "outputs": [],
   "source": []
  }
 ],
 "metadata": {
  "kernelspec": {
   "display_name": "dev",
   "language": "python",
   "name": "dev"
  },
  "language_info": {
   "codemirror_mode": {
    "name": "ipython",
    "version": 3
   },
   "file_extension": ".py",
   "mimetype": "text/x-python",
   "name": "python",
   "nbconvert_exporter": "python",
   "pygments_lexer": "ipython3",
   "version": "3.10.12"
  }
 },
 "nbformat": 4,
 "nbformat_minor": 5
}
